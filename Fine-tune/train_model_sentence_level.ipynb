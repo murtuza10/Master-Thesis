{
 "cells": [
  {
   "cell_type": "code",
   "execution_count": 1,
   "id": "8575d440",
   "metadata": {},
   "outputs": [],
   "source": [
    "import json\n",
    "import numpy as np\n",
    "from sklearn.model_selection import train_test_split"
   ]
  },
  {
   "cell_type": "code",
   "execution_count": 11,
   "id": "7b761141",
   "metadata": {},
   "outputs": [
    {
     "name": "stdout",
     "output_type": "stream",
     "text": [
      "2067\n"
     ]
    }
   ],
   "source": [
    "with open(\"/home/s27mhusa_hpc/Master-Thesis/ner_dataset_sentence.json\", \"r\", encoding=\"utf-8\") as f:\n",
    "    data = json.load(f)\n",
    "    print(len(data))"
   ]
  },
  {
   "cell_type": "code",
   "execution_count": 3,
   "id": "80152d40",
   "metadata": {},
   "outputs": [
    {
     "data": {
      "text/plain": [
       "31"
      ]
     },
     "execution_count": 3,
     "metadata": {},
     "output_type": "execute_result"
    }
   ],
   "source": [
    "label_list = [\"O\", \"B-soilOrganicCarbon\", \"I-soilOrganicCarbon\", \"B-startTime\", \"I-startTime\", \"B-endTime\", \"I-endTime\", \"B-city\", \"I-city\", \"B-duration\", \"I-duration\", \"B-cropSpecies\", \"I-cropSpecies\", \"B-soilAvailableNitrogen\", \"I-soilAvailableNitrogen\", \"B-soilDepth\", \"I-soilDepth\", \"B-region\", \"I-region\", \"B-country\", \"I-country\", \"B-longitude\", \"I-longitude\", \"B-latitude\", \"I-latitude\", \"B-cropVariety\", \"I-cropVariety\", \"B-soilPH\", \"I-soilPH\", \"B-soilBulkDensity\", \"I-soilBulkDensity\"]\n",
    "len(label_list)"
   ]
  },
  {
   "cell_type": "code",
   "execution_count": 4,
   "id": "59f5a85e",
   "metadata": {},
   "outputs": [],
   "source": [
    "# Build a label distribution vector for each sentence\n",
    "def build_label_vector(ner_tags):\n",
    "    vec = np.zeros(len(label_list), dtype=int)\n",
    "    for tag in ner_tags:\n",
    "        if tag != -100:  # Ignore padding\n",
    "            vec[tag] += 1\n",
    "    return vec"
   ]
  },
  {
   "cell_type": "code",
   "execution_count": 5,
   "id": "e2907dce",
   "metadata": {},
   "outputs": [],
   "source": [
    "label_vectors = [build_label_vector(item[\"ner_tags\"]) for item in data]\n"
   ]
  },
  {
   "cell_type": "code",
   "execution_count": 6,
   "id": "816ed72a",
   "metadata": {},
   "outputs": [],
   "source": [
    "# Convert label_vectors to a single class by hashing (approx stratification)\n",
    "label_hashes = [tuple((vec > 0).astype(int)) for vec in label_vectors]\n",
    "unique_classes = {h: i for i, h in enumerate(set(label_hashes))}\n",
    "stratify_labels = [unique_classes[h] for h in label_hashes]"
   ]
  },
  {
   "cell_type": "code",
   "execution_count": 7,
   "id": "fd38c69f",
   "metadata": {},
   "outputs": [
    {
     "name": "stdout",
     "output_type": "stream",
     "text": [
      "2067\n",
      "Label group 13 only occurs 1 time(s)\n",
      "Label group 17 only occurs 1 time(s)\n",
      "Label group 49 only occurs 1 time(s)\n",
      "Label group 54 only occurs 1 time(s)\n",
      "Label group 31 only occurs 1 time(s)\n",
      "Label group 81 only occurs 1 time(s)\n",
      "Label group 52 only occurs 1 time(s)\n",
      "Label group 25 only occurs 1 time(s)\n",
      "Label group 9 only occurs 1 time(s)\n",
      "Label group 8 only occurs 1 time(s)\n",
      "Label group 19 only occurs 1 time(s)\n",
      "Label group 38 only occurs 1 time(s)\n",
      "Label group 74 only occurs 1 time(s)\n",
      "Label group 76 only occurs 1 time(s)\n",
      "Label group 72 only occurs 1 time(s)\n",
      "Label group 77 only occurs 1 time(s)\n",
      "Label group 3 only occurs 1 time(s)\n",
      "Label group 34 only occurs 1 time(s)\n",
      "Label group 45 only occurs 1 time(s)\n",
      "Label group 5 only occurs 1 time(s)\n",
      "Label group 36 only occurs 1 time(s)\n",
      "Label group 32 only occurs 1 time(s)\n",
      "Label group 20 only occurs 1 time(s)\n",
      "Label group 1 only occurs 1 time(s)\n",
      "Label group 58 only occurs 1 time(s)\n",
      "Label group 33 only occurs 1 time(s)\n",
      "Label group 28 only occurs 1 time(s)\n",
      "Label group 48 only occurs 1 time(s)\n",
      "Label group 12 only occurs 1 time(s)\n",
      "Label group 55 only occurs 1 time(s)\n",
      "Label group 53 only occurs 1 time(s)\n",
      "Label group 15 only occurs 1 time(s)\n",
      "Label group 22 only occurs 1 time(s)\n",
      "Label group 40 only occurs 1 time(s)\n",
      "Label group 10 only occurs 1 time(s)\n",
      "Label group 50 only occurs 1 time(s)\n",
      "Label group 73 only occurs 1 time(s)\n",
      "Label group 56 only occurs 1 time(s)\n",
      "38\n"
     ]
    }
   ],
   "source": [
    "from collections import Counter\n",
    "\n",
    "c = Counter(stratify_labels)\n",
    "print(len(stratify_labels))\n",
    "label_grp = 0\n",
    "for k, v in c.items():\n",
    "    if v < 2:\n",
    "        print(f\"Label group {k} only occurs {v} time(s)\")\n",
    "        label_grp +=1\n",
    "print(label_grp)\n"
   ]
  },
  {
   "cell_type": "code",
   "execution_count": 8,
   "id": "3f3b4538",
   "metadata": {},
   "outputs": [],
   "source": [
    "from collections import Counter\n",
    "\n",
    "# Count how many times each class appears\n",
    "label_counts = Counter(stratify_labels)\n",
    "\n",
    "# Keep only samples whose label group appears at least twice\n",
    "filtered_data = [\n",
    "    sample for sample, label in zip(data, stratify_labels) if label_counts[label] >= 2\n",
    "]\n",
    "filtered_stratify_labels = [\n",
    "    label for label in stratify_labels if label_counts[label] >= 2\n",
    "]\n",
    "\n",
    "# Then split as usual\n",
    "train_data, temp_data = train_test_split(\n",
    "    filtered_data,\n",
    "    stratify=filtered_stratify_labels,\n",
    "    test_size=0.2,\n",
    "    random_state=42\n",
    ")\n"
   ]
  },
  {
   "cell_type": "code",
   "execution_count": 9,
   "id": "2525deed",
   "metadata": {},
   "outputs": [],
   "source": [
    "# Split temp into val and test\n",
    "val_data, test_data = train_test_split(\n",
    "    temp_data, test_size=0.5, random_state=42\n",
    ")"
   ]
  },
  {
   "cell_type": "code",
   "execution_count": 10,
   "id": "c606fa3d",
   "metadata": {},
   "outputs": [
    {
     "name": "stdout",
     "output_type": "stream",
     "text": [
      "Saved train split with 1623 examples to /home/s27mhusa_hpc/Master-Thesis/ner_dataset_sentence_train.json\n",
      "Saved val split with 203 examples to /home/s27mhusa_hpc/Master-Thesis/ner_dataset_sentence_val.json\n",
      "Saved test split with 203 examples to /home/s27mhusa_hpc/Master-Thesis/ner_dataset_sentence_test.json\n"
     ]
    }
   ],
   "source": [
    "# Save splits\n",
    "base_path = \"/home/s27mhusa_hpc/Master-Thesis\"\n",
    "\n",
    "for split_name, split_data in [(\"train\", train_data), (\"val\", val_data), (\"test\", test_data)]:\n",
    "    out_path = f\"{base_path}/ner_dataset_sentence_{split_name}.json\"\n",
    "    with open(out_path, \"w\", encoding=\"utf-8\") as f:\n",
    "        json.dump(split_data, f, indent=2, ensure_ascii=False)\n",
    "    print(f\"Saved {split_name} split with {len(split_data)} examples to {out_path}\")"
   ]
  },
  {
   "cell_type": "code",
   "execution_count": null,
   "id": "ace440ee",
   "metadata": {},
   "outputs": [
    {
     "name": "stderr",
     "output_type": "stream",
     "text": [
      "/home/s27mhusa_hpc/.conda/envs/Llama/lib/python3.9/site-packages/tqdm/auto.py:21: TqdmWarning: IProgress not found. Please update jupyter and ipywidgets. See https://ipywidgets.readthedocs.io/en/stable/user_install.html\n",
      "  from .autonotebook import tqdm as notebook_tqdm\n"
     ]
    },
    {
     "ename": "NameError",
     "evalue": "name 'dataset' is not defined",
     "output_type": "error",
     "traceback": [
      "\u001b[0;31m---------------------------------------------------------------------------\u001b[0m",
      "\u001b[0;31mNameError\u001b[0m                                 Traceback (most recent call last)",
      "Cell \u001b[0;32mIn[16], line 31\u001b[0m\n\u001b[1;32m     28\u001b[0m     tokenized_inputs[\u001b[38;5;124m\"\u001b[39m\u001b[38;5;124mlabels\u001b[39m\u001b[38;5;124m\"\u001b[39m] \u001b[38;5;241m=\u001b[39m labels\n\u001b[1;32m     29\u001b[0m     \u001b[38;5;28;01mreturn\u001b[39;00m tokenized_inputs\n\u001b[0;32m---> 31\u001b[0m tokenized_dataset \u001b[38;5;241m=\u001b[39m \u001b[43mdataset\u001b[49m\u001b[38;5;241m.\u001b[39mmap(tokenize_and_align_labels)\n",
      "\u001b[0;31mNameError\u001b[0m: name 'dataset' is not defined"
     ]
    }
   ],
   "source": []
  },
  {
   "cell_type": "code",
   "execution_count": null,
   "id": "0cf57112",
   "metadata": {},
   "outputs": [],
   "source": []
  }
 ],
 "metadata": {
  "kernelspec": {
   "display_name": "Llama",
   "language": "python",
   "name": "python3"
  },
  "language_info": {
   "codemirror_mode": {
    "name": "ipython",
    "version": 3
   },
   "file_extension": ".py",
   "mimetype": "text/x-python",
   "name": "python",
   "nbconvert_exporter": "python",
   "pygments_lexer": "ipython3",
   "version": "3.9.21"
  }
 },
 "nbformat": 4,
 "nbformat_minor": 5
}
