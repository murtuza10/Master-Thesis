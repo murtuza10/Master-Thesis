{
 "cells": [
  {
   "cell_type": "code",
   "execution_count": 2,
   "id": "ef165916",
   "metadata": {},
   "outputs": [
    {
     "name": "stderr",
     "output_type": "stream",
     "text": [
      "/home/s27mhusa_hpc/.conda/envs/Llama/lib/python3.9/site-packages/tqdm/auto.py:21: TqdmWarning: IProgress not found. Please update jupyter and ipywidgets. See https://ipywidgets.readthedocs.io/en/stable/user_install.html\n",
      "  from .autonotebook import tqdm as notebook_tqdm\n"
     ]
    }
   ],
   "source": [
    "from transformers import AutoTokenizer\n",
    "from datasets import Dataset, DatasetDict, load_dataset"
   ]
  },
  {
   "cell_type": "code",
   "execution_count": 9,
   "id": "443ce5ea",
   "metadata": {},
   "outputs": [],
   "source": [
    "dataset = load_dataset(\"json\", data_files=\"/home/s27mhusa_hpc/Master-Thesis/ner_dataset.json\")\n",
    "# Load each split from local JSON files\n",
    "train_dataset = Dataset.from_json(\"/home/s27mhusa_hpc/Master-Thesis/ner_dataset_train.json\")\n",
    "val_dataset   = Dataset.from_json(\"/home/s27mhusa_hpc/Master-Thesis/ner_dataset_val.json\")\n",
    "test_dataset  = Dataset.from_json(\"/home/s27mhusa_hpc/Master-Thesis/ner_dataset_test.json\")\n",
    "\n",
    "# Combine into a single DatasetDict (optional, but useful)\n",
    "dataset = DatasetDict({\n",
    "    \"train\": train_dataset,\n",
    "    \"validation\": val_dataset,\n",
    "    \"test\": test_dataset\n",
    "})\n",
    "\n",
    "\n",
    "model_checkpoint = \"bert-base-multilingual-cased\"\n",
    "tokenizer = AutoTokenizer.from_pretrained(model_checkpoint)"
   ]
  },
  {
   "cell_type": "code",
   "execution_count": 3,
   "id": "3aa33a0b",
   "metadata": {},
   "outputs": [
    {
     "name": "stdout",
     "output_type": "stream",
     "text": [
      "DatasetDict({\n",
      "    train: Dataset({\n",
      "        features: ['tokens', 'ner_tags'],\n",
      "        num_rows: 155\n",
      "    })\n",
      "    validation: Dataset({\n",
      "        features: ['tokens', 'ner_tags'],\n",
      "        num_rows: 19\n",
      "    })\n",
      "    test: Dataset({\n",
      "        features: ['tokens', 'ner_tags'],\n",
      "        num_rows: 20\n",
      "    })\n",
      "})\n",
      "{'tokens': ['Title', ':', '\\n', 'Continuous', 'thermosalinograph', 'oceanography', 'along', 'RV', 'Meteor', 'cruise', 'track', 'M185', '\\n\\n', 'Abstract', ':', '\\n', 'Underway', 'temperature', 'and', 'salinity', 'data', 'was', 'collected', 'along', 'the', 'cruise', 'track', 'with', 'two', 'autonomous', 'thermosalinograph', '(', 'TSG', ')', 'systems', ',', 'each', 'consisting', 'of', 'a', 'SBE21', 'TSG', 'together', 'with', 'a', 'SBE38', 'Thermometer', '.', 'Both', 'systems', 'worked', 'independent', 'from', 'each', 'other', 'throughout', 'the', 'cruise', '.', 'While', 'temperature', 'is', 'taken', 'at', 'the', 'water', 'inlet', 'in', 'about', '5', 'm', 'depth', ',', 'salinity', 'is', 'estimated', 'within', 'the', 'interior', 'TSG', 'from', 'conductivity', 'and', 'interior', 'temperature', '.', 'No', 'correction', 'against', 'independent', 'data', 'was', 'performed', 'for', 'temperature', '.', 'Salinity', 'was', 'calibrated', 'against', 'independent', 'water', 'samples', '.', 'Finally', ',', 'TSG1', 'was', 'chosen', 'for', 'publication', '.', 'For', 'details', 'to', 'all', 'processing', 'steps', 'see', 'Data', 'Processing', 'Report', '.', '\\n\\n'], 'ner_tags': [0, 0, 0, 0, 0, 0, 0, 0, 0, 0, 0, 0, 0, 0, 0, 0, 0, 0, 0, 0, 0, 0, 0, 0, 0, 0, 0, 0, 0, 0, 0, 0, 0, 0, 0, 0, 0, 0, 0, 0, 0, 0, 0, 0, 0, 0, 0, 0, 0, 0, 0, 0, 0, 0, 0, 0, 0, 0, 0, 0, 0, 0, 0, 0, 0, 0, 0, 0, 0, 0, 0, 0, 0, 0, 0, 0, 0, 0, 0, 0, 0, 0, 0, 0, 0, 0, 0, 0, 0, 0, 0, 0, 0, 0, 0, 0, 0, 0, 0, 0, 0, 0, 0, 0, 0, 0, 0, 0, 0, 0, 0, 0, 0, 0, 0, 0, 0, 0, 0, 0, 0, 0, 0, 0]}\n"
     ]
    }
   ],
   "source": [
    "print(dataset)\n",
    "print(dataset[\"train\"][0])\n"
   ]
  },
  {
   "cell_type": "code",
   "execution_count": 4,
   "id": "f5583639",
   "metadata": {},
   "outputs": [],
   "source": [
    "from transformers import AutoTokenizer\n",
    "\n",
    "label_list = [\"O\", \"B-soilOrganicCarbon\", \"I-soilOrganicCarbon\", \"B-startTime\", \"I-startTime\", \"B-endTime\", \"I-endTime\", \"B-city\", \"I-city\", \"B-duration\", \"I-duration\", \"B-cropSpecies\", \"I-cropSpecies\", \"B-soilAvailableNitrogen\", \"I-soilAvailableNitrogen\", \"B-soilDepth\", \"I-soilDepth\", \"B-region\", \"I-region\", \"B-country\", \"I-country\", \"B-longitude\", \"I-longitude\", \"B-latitude\", \"I-latitude\", \"B-cropVariety\", \"I-cropVariety\", \"B-soilPH\", \"I-soilPH\", \"B-soilBulkDensity\", \"I-soilBulkDensity\"]\n",
    "label_to_id = {l: i for i, l in enumerate(label_list)}\n",
    "\n",
    "\n",
    "def tokenize_and_align_labels(example):\n",
    "    tokenized_inputs = tokenizer(\n",
    "        example[\"tokens\"],\n",
    "        truncation=True,\n",
    "        is_split_into_words=True,\n",
    "        return_offsets_mapping=True,\n",
    "        padding=\"max_length\"\n",
    "    )\n",
    "    \n",
    "    labels = []\n",
    "    word_ids = tokenized_inputs.word_ids()\n",
    "    previous_word_idx = None\n",
    "    for word_idx in word_ids:\n",
    "        if word_idx is None:\n",
    "            labels.append(-100)\n",
    "        elif word_idx != previous_word_idx:\n",
    "            labels.append(example[\"ner_tags\"][word_idx])\n",
    "        else:\n",
    "            labels.append(example[\"ner_tags\"][word_idx])  # or -100 to ignore subwords\n",
    "        previous_word_idx = word_idx\n",
    "\n",
    "    tokenized_inputs[\"labels\"] = labels\n",
    "    return tokenized_inputs\n",
    "\n",
    "tokenized_dataset = dataset.map(tokenize_and_align_labels)\n"
   ]
  },
  {
   "cell_type": "code",
   "execution_count": 15,
   "id": "307951cc",
   "metadata": {},
   "outputs": [
    {
     "name": "stderr",
     "output_type": "stream",
     "text": [
      "Some weights of BertForTokenClassification were not initialized from the model checkpoint at bert-base-multilingual-cased and are newly initialized: ['classifier.bias', 'classifier.weight']\n",
      "You should probably TRAIN this model on a down-stream task to be able to use it for predictions and inference.\n",
      "/tmp/ipykernel_2769222/3079591447.py:48: FutureWarning: `tokenizer` is deprecated and will be removed in version 5.0.0 for `Trainer.__init__`. Use `processing_class` instead.\n",
      "  trainer = Trainer(\n"
     ]
    },
    {
     "data": {
      "text/html": [],
      "text/plain": [
       "<IPython.core.display.HTML object>"
      ]
     },
     "metadata": {},
     "output_type": "display_data"
    },
    {
     "name": "stdout",
     "output_type": "stream",
     "text": [
      "{'eval_loss': 3.6846370697021484, 'eval_model_preparation_time': 0.0111, 'eval_precision': 0.0013097576948264572, 'eval_recall': 0.029850746268656716, 'eval_f1': 0.0025094102885821834, 'eval_accuracy': 0.002959127057518032, 'eval_runtime': 2.5128, 'eval_samples_per_second': 7.959, 'eval_steps_per_second': 1.194}\n"
     ]
    }
   ],
   "source": [
    "import evaluate\n",
    "from transformers import AutoModelForTokenClassification, TrainingArguments, Trainer\n",
    "from transformers import AutoTokenizer\n",
    "import numpy as np\n",
    "\n",
    "# Load model and tokenizer\n",
    "model = AutoModelForTokenClassification.from_pretrained(\n",
    "    \"bert-base-multilingual-cased\", num_labels=len(label_list)\n",
    ")\n",
    "tokenizer = AutoTokenizer.from_pretrained(\"bert-base-multilingual-cased\")\n",
    "\n",
    "# Load metric using evaluate\n",
    "seqeval = evaluate.load(\"seqeval\")\n",
    "\n",
    "# Align predictions with labels\n",
    "def align_predictions(predictions, label_ids):\n",
    "    preds = np.argmax(predictions, axis=2)\n",
    "    batch_size, seq_len = preds.shape\n",
    "\n",
    "    out_label_list = [[] for _ in range(batch_size)]\n",
    "    out_pred_list = [[] for _ in range(batch_size)]\n",
    "\n",
    "    for i in range(batch_size):\n",
    "        for j in range(seq_len):\n",
    "            if label_ids[i][j] != -100:\n",
    "                out_label_list[i].append(label_list[label_ids[i][j]])\n",
    "                out_pred_list[i].append(label_list[preds[i][j]])\n",
    "\n",
    "    return out_pred_list, out_label_list\n",
    "\n",
    "# Compute metrics\n",
    "def compute_metrics(p):\n",
    "    predictions, label_ids = p\n",
    "    preds, labels = align_predictions(predictions, label_ids)\n",
    "    results = seqeval.compute(predictions=preds, references=labels)\n",
    "    return {\n",
    "        \"precision\": results[\"overall_precision\"],\n",
    "        \"recall\": results[\"overall_recall\"],\n",
    "        \"f1\": results[\"overall_f1\"],\n",
    "        \"accuracy\": results[\"overall_accuracy\"],\n",
    "    }\n",
    "\n",
    "training_args = TrainingArguments(\n",
    "    output_dir=\"./tmp_eval\",  # just a dummy dir\n",
    "    per_device_eval_batch_size=8,\n",
    ")\n",
    "\n",
    "trainer = Trainer(\n",
    "    model=model,\n",
    "    args=training_args,\n",
    "    eval_dataset=tokenized_dataset[\"test\"],\n",
    "    tokenizer=tokenizer,\n",
    "    compute_metrics=compute_metrics\n",
    ")\n",
    "\n",
    "results = trainer.evaluate()\n",
    "print(results)\n"
   ]
  },
  {
   "cell_type": "code",
   "execution_count": 16,
   "id": "3d76cebb",
   "metadata": {},
   "outputs": [
    {
     "name": "stdout",
     "output_type": "stream",
     "text": [
      "Pred: ['I-soilOrganicCarbon', 'B-soilOrganicCarbon', 'I-soilPH', 'I-soilPH', 'B-soilDepth', 'I-latitude', 'I-latitude', 'I-latitude', 'I-soilPH', 'I-latitude', 'I-latitude', 'I-region', 'B-cropVariety', 'I-latitude', 'B-soilPH', 'I-cropSpecies', 'I-startTime', 'I-region', 'I-startTime', 'B-soilDepth', 'I-soilPH', 'I-soilPH', 'I-soilPH', 'I-latitude', 'I-soilPH', 'I-latitude', 'I-latitude', 'I-latitude', 'B-region', 'I-soilPH', 'I-latitude', 'B-cropVariety', 'B-cropVariety', 'I-soilAvailableNitrogen', 'I-region', 'B-soilBulkDensity', 'I-region', 'I-latitude', 'I-latitude', 'I-soilAvailableNitrogen', 'B-cropVariety', 'B-cropVariety', 'I-soilAvailableNitrogen', 'I-startTime', 'B-soilBulkDensity', 'I-latitude', 'I-latitude', 'I-latitude', 'I-latitude', 'B-cropVariety', 'I-latitude', 'I-soilPH', 'I-latitude', 'I-latitude', 'I-soilPH', 'B-soilBulkDensity', 'I-latitude', 'I-region', 'I-region', 'I-soilPH', 'I-soilPH', 'B-cropVariety', 'I-soilPH', 'I-region', 'I-soilAvailableNitrogen', 'I-soilPH', 'I-latitude', 'I-region', 'I-region', 'B-cropVariety', 'I-country', 'I-soilAvailableNitrogen', 'I-latitude', 'I-region', 'I-soilDepth', 'B-startTime', 'I-soilPH', 'I-latitude', 'I-region', 'I-region', 'I-region', 'I-region', 'I-region', 'I-region', 'B-cropVariety', 'I-latitude', 'I-latitude', 'I-region', 'I-region', 'I-latitude', 'I-region', 'I-region', 'I-region', 'I-latitude', 'I-region', 'B-cropVariety', 'I-soilOrganicCarbon', 'I-region', 'I-region', 'I-soilPH', 'I-region', 'I-region', 'I-region', 'I-cropVariety', 'I-soilPH', 'I-soilPH', 'I-region', 'I-region', 'I-region', 'I-country', 'I-latitude', 'I-soilAvailableNitrogen', 'I-country', 'I-latitude', 'I-latitude', 'I-latitude', 'I-soilPH', 'I-endTime', 'I-soilOrganicCarbon', 'I-soilOrganicCarbon', 'I-city', 'I-latitude', 'I-region', 'I-country', 'I-startTime', 'I-region', 'I-latitude', 'I-latitude', 'I-city', 'I-latitude', 'I-country', 'I-region', 'I-region', 'I-region', 'I-region', 'I-region', 'I-cropVariety', 'B-region', 'I-country', 'I-country', 'I-latitude', 'I-latitude', 'I-region', 'I-region', 'I-region', 'I-region', 'I-region', 'I-cropSpecies', 'I-region', 'I-region', 'I-cropSpecies', 'I-region', 'I-region', 'I-latitude', 'B-cropVariety', 'I-latitude', 'B-soilDepth', 'I-soilPH', 'I-latitude', 'I-soilPH', 'I-latitude', 'I-latitude', 'I-region', 'I-cropSpecies', 'I-soilPH', 'B-latitude', 'I-region', 'I-soilPH', 'I-region', 'I-soilPH', 'I-soilPH', 'I-soilPH', 'B-country', 'I-latitude', 'I-latitude', 'I-latitude', 'I-soilPH', 'I-region', 'I-region', 'I-soilPH', 'I-region', 'I-soilPH', 'B-endTime', 'I-region', 'I-region', 'I-region', 'I-city', 'I-soilPH', 'B-cropVariety', 'B-cropVariety', 'B-cropVariety', 'I-region', 'I-soilPH', 'I-latitude', 'I-region', 'I-region', 'I-country', 'I-region', 'I-region', 'I-soilDepth', 'I-region', 'B-city', 'I-soilPH', 'I-soilPH', 'I-soilPH', 'B-startTime', 'B-soilBulkDensity', 'I-region', 'I-region', 'B-cropVariety', 'I-region', 'I-region', 'I-soilPH', 'B-region', 'I-region', 'I-region', 'I-region', 'B-cropVariety', 'I-country', 'I-region', 'I-region', 'I-cropSpecies', 'B-soilDepth', 'I-soilPH', 'I-soilPH', 'I-region', 'B-soilOrganicCarbon', 'I-region', 'I-latitude', 'B-cropVariety', 'B-soilBulkDensity', 'I-region', 'I-latitude', 'I-region', 'I-cropSpecies', 'I-cropSpecies', 'I-soilPH', 'B-cropVariety', 'I-soilPH', 'B-soilDepth', 'B-soilDepth', 'B-cropVariety', 'I-soilPH', 'I-soilPH', 'I-latitude', 'I-cropSpecies', 'I-latitude', 'I-soilPH', 'I-latitude', 'I-latitude', 'I-latitude', 'I-latitude', 'I-latitude', 'I-soilPH', 'I-soilPH', 'I-country', 'I-region', 'I-region', 'I-country', 'I-region', 'I-cropVariety', 'I-region', 'I-latitude', 'I-latitude', 'I-latitude', 'I-latitude', 'I-soilPH', 'I-soilPH', 'I-country', 'I-region', 'I-latitude', 'I-latitude', 'I-latitude', 'I-latitude', 'I-cropVariety', 'I-region', 'I-latitude', 'I-cropVariety', 'I-soilPH', 'I-soilPH', 'B-region', 'I-region', 'I-soilPH', 'I-soilPH', 'I-cropSpecies', 'I-soilPH', 'I-soilPH', 'I-country', 'I-latitude', 'I-latitude', 'I-latitude', 'I-latitude', 'I-latitude', 'B-cropVariety', 'I-cropSpecies', 'B-region', 'I-latitude', 'I-country', 'I-latitude', 'I-soilPH', 'I-soilPH', 'I-soilPH', 'I-soilPH', 'I-country', 'I-region', 'I-country', 'I-cropSpecies', 'I-soilPH', 'I-cropVariety', 'I-soilPH', 'I-soilPH', 'I-country', 'I-latitude', 'I-country', 'I-country', 'I-region', 'I-latitude', 'I-latitude', 'I-region', 'I-latitude', 'I-latitude', 'I-latitude', 'I-latitude', 'I-latitude', 'I-soilPH', 'I-latitude', 'I-latitude', 'I-soilPH', 'I-country', 'I-soilPH', 'B-cropVariety', 'I-soilPH', 'I-soilPH', 'I-soilPH', 'I-soilDepth', 'I-soilDepth', 'I-country', 'I-country', 'I-latitude', 'I-latitude']\n",
      "Gold: ['O', 'O', 'O', 'O', 'O', 'O', 'O', 'O', 'O', 'O', 'O', 'O', 'O', 'O', 'O', 'O', 'O', 'O', 'O', 'O', 'O', 'O', 'O', 'O', 'O', 'O', 'O', 'O', 'O', 'B-region', 'I-region', 'O', 'O', 'O', 'O', 'O', 'O', 'O', 'O', 'O', 'O', 'O', 'O', 'O', 'O', 'O', 'O', 'O', 'O', 'O', 'O', 'O', 'O', 'O', 'O', 'O', 'O', 'O', 'O', 'O', 'O', 'O', 'O', 'O', 'O', 'O', 'O', 'O', 'O', 'O', 'O', 'O', 'O', 'O', 'O', 'O', 'O', 'O', 'O', 'O', 'O', 'O', 'O', 'O', 'O', 'O', 'O', 'O', 'O', 'O', 'O', 'O', 'O', 'O', 'O', 'O', 'O', 'O', 'O', 'O', 'O', 'O', 'O', 'O', 'O', 'O', 'O', 'O', 'O', 'O', 'O', 'O', 'O', 'O', 'O', 'O', 'O', 'O', 'O', 'O', 'O', 'O', 'O', 'B-region', 'I-region', 'O', 'O', 'O', 'O', 'O', 'O', 'O', 'O', 'O', 'O', 'O', 'O', 'O', 'O', 'O', 'O', 'O', 'O', 'O', 'O', 'O', 'O', 'O', 'O', 'O', 'O', 'O', 'O', 'O', 'O', 'O', 'O', 'O', 'O', 'O', 'O', 'O', 'O', 'O', 'O', 'O', 'O', 'O', 'O', 'O', 'O', 'O', 'O', 'O', 'O', 'O', 'O', 'O', 'O', 'O', 'O', 'O', 'O', 'O', 'O', 'O', 'O', 'O', 'O', 'O', 'O', 'O', 'O', 'O', 'O', 'O', 'O', 'O', 'O', 'O', 'O', 'O', 'O', 'O', 'O', 'O', 'O', 'O', 'O', 'O', 'O', 'O', 'O', 'O', 'O', 'O', 'O', 'O', 'O', 'O', 'O', 'O', 'O', 'O', 'B-region', 'B-region', 'B-region', 'O', 'B-region', 'B-region', 'B-region', 'I-region', 'O', 'B-region', 'I-region', 'O', 'O', 'O', 'O', 'O', 'O', 'O', 'O', 'O', 'O', 'O', 'O', 'O', 'O', 'O', 'O', 'O', 'O', 'O', 'O', 'O', 'O', 'O', 'O', 'O', 'O', 'O', 'O', 'O', 'O', 'O', 'O', 'O', 'O', 'O', 'O', 'O', 'O', 'O', 'O', 'O', 'O', 'O', 'O', 'O', 'O', 'O', 'O', 'O', 'O', 'O', 'O', 'O', 'O', 'O', 'O', 'O', 'O', 'O', 'O', 'O', 'O', 'O', 'O', 'O', 'O', 'O', 'O', 'O', 'O', 'O', 'O', 'O', 'O', 'O', 'O', 'O', 'O', 'O', 'O', 'O', 'O', 'O', 'O', 'O', 'O', 'O', 'O', 'O', 'O', 'O', 'O', 'O', 'O', 'O', 'O', 'O', 'O', 'O', 'O', 'O', 'O', 'O', 'O', 'O']\n",
      "\n",
      "Pred: ['B-cropSpecies', 'B-soilOrganicCarbon', 'B-soilDepth', 'B-cropVariety', 'I-soilPH', 'I-cropSpecies', 'I-cropSpecies', 'B-cropVariety', 'I-cropSpecies', 'I-endTime', 'B-cropSpecies', 'B-startTime', 'I-soilPH', 'I-soilPH', 'I-region', 'I-cropVariety', 'B-cropVariety', 'B-cropVariety', 'B-cropVariety', 'B-cropSpecies', 'B-cropSpecies', 'B-cropSpecies', 'B-cropSpecies', 'B-cropSpecies', 'I-longitude', 'I-cropVariety', 'B-region', 'I-cropVariety', 'I-soilPH', 'I-cropVariety', 'I-country', 'I-soilBulkDensity', 'I-longitude', 'I-city', 'I-city', 'B-cropVariety', 'B-cropVariety', 'B-cropVariety', 'I-city', 'B-startTime', 'B-soilBulkDensity', 'I-region', 'B-startTime', 'B-startTime', 'B-soilDepth', 'B-cropVariety', 'I-country', 'I-cropSpecies', 'I-cropSpecies', 'I-country', 'I-cropSpecies', 'B-soilDepth', 'B-cropSpecies', 'B-cropVariety', 'B-cropVariety', 'I-soilPH', 'I-region', 'B-cropSpecies', 'B-cropVariety', 'I-soilPH', 'I-cropSpecies', 'I-region', 'I-region', 'I-region', 'I-region', 'B-cropSpecies', 'B-startTime', 'B-endTime', 'I-country', 'I-country', 'I-region', 'B-startTime', 'I-region', 'I-country', 'I-region', 'I-country', 'B-region', 'I-region', 'I-cropVariety', 'I-region', 'B-startTime', 'I-region', 'I-region', 'I-region', 'I-region', 'B-startTime', 'B-soilBulkDensity', 'B-startTime', 'B-startTime', 'I-cropSpecies', 'I-country', 'I-cropVariety', 'I-region', 'I-soilPH', 'I-cropVariety', 'I-soilPH', 'I-city', 'O', 'I-city', 'I-soilPH', 'O', 'I-city', 'B-cropSpecies', 'I-cropVariety', 'B-city', 'I-country', 'I-soilPH', 'I-soilPH', 'I-soilPH', 'I-soilPH', 'I-soilPH', 'I-soilPH', 'I-cropVariety', 'I-soilPH', 'I-city', 'O', 'I-city', 'I-soilPH', 'O', 'I-city', 'I-soilPH', 'I-soilPH', 'I-city', 'I-soilAvailableNitrogen', 'I-city', 'I-latitude', 'I-city', 'I-soilAvailableNitrogen', 'I-cropVariety', 'I-soilAvailableNitrogen', 'I-country', 'I-soilPH', 'I-soilPH', 'I-soilPH', 'I-soilPH', 'B-cropSpecies', 'B-cropVariety', 'I-cropSpecies']\n",
      "Gold: ['O', 'O', 'O', 'O', 'O', 'O', 'O', 'O', 'O', 'O', 'O', 'O', 'O', 'O', 'O', 'O', 'O', 'B-country', 'O', 'O', 'O', 'O', 'O', 'O', 'O', 'O', 'O', 'O', 'O', 'O', 'O', 'O', 'O', 'O', 'O', 'O', 'O', 'O', 'O', 'O', 'O', 'O', 'O', 'O', 'O', 'O', 'O', 'O', 'O', 'O', 'O', 'O', 'O', 'O', 'O', 'O', 'O', 'O', 'O', 'B-country', 'O', 'O', 'O', 'O', 'O', 'O', 'O', 'O', 'O', 'O', 'O', 'O', 'O', 'O', 'O', 'O', 'O', 'O', 'O', 'O', 'O', 'O', 'O', 'O', 'O', 'O', 'O', 'O', 'O', 'O', 'O', 'O', 'O', 'O', 'O', 'O', 'O', 'O', 'O', 'O', 'O', 'O', 'O', 'O', 'O', 'O', 'O', 'O', 'O', 'O', 'O', 'O', 'O', 'O', 'O', 'O', 'O', 'O', 'O', 'O', 'O', 'O', 'O', 'O', 'O', 'O', 'O', 'O', 'O', 'O', 'O', 'O', 'B-soilOrganicCarbon', 'B-soilOrganicCarbon', 'O', 'O', 'O', 'O']\n",
      "\n",
      "Pred: ['B-soilPH', 'I-cropVariety', 'I-longitude', 'I-cropVariety', 'I-cropVariety', 'I-longitude', 'B-soilPH', 'B-soilPH', 'I-latitude', 'B-cropVariety', 'I-city', 'B-soilPH', 'B-soilPH', 'I-soilPH', 'I-cropSpecies', 'B-cropVariety', 'O', 'I-soilPH', 'I-cropVariety', 'I-soilPH', 'B-cropVariety', 'I-longitude', 'I-cropVariety', 'B-cropSpecies', 'I-longitude', 'B-region', 'I-latitude', 'I-latitude', 'B-soilDepth', 'I-region', 'B-cropSpecies', 'B-soilPH', 'I-region', 'I-region', 'B-cropSpecies', 'I-region', 'B-cropVariety', 'B-cropVariety', 'I-region', 'I-cropVariety', 'B-soilPH', 'I-latitude', 'I-region', 'I-region', 'I-latitude', 'I-latitude', 'B-soilBulkDensity', 'I-cropSpecies', 'I-region', 'I-longitude', 'I-latitude', 'I-region', 'I-longitude', 'B-soilBulkDensity', 'I-cropSpecies', 'B-cropSpecies', 'I-country', 'B-soilDepth', 'B-soilBulkDensity', 'I-cropVariety', 'B-soilDepth', 'I-latitude', 'I-latitude', 'I-longitude', 'B-cropVariety', 'B-soilBulkDensity', 'B-soilDepth', 'I-region', 'B-cropSpecies', 'I-region', 'I-region', 'B-cropSpecies', 'I-region', 'I-latitude', 'I-latitude', 'I-latitude', 'I-latitude', 'I-latitude', 'I-latitude', 'B-soilAvailableNitrogen', 'I-longitude', 'I-longitude', 'B-cropVariety', 'I-latitude', 'I-latitude', 'I-latitude', 'I-region', 'I-region', 'B-soilAvailableNitrogen', 'I-latitude', 'I-region', 'I-latitude', 'I-latitude', 'I-latitude', 'I-latitude', 'I-latitude', 'I-latitude', 'O', 'I-region', 'I-soilPH', 'I-region', 'I-latitude', 'I-latitude', 'I-region', 'I-region', 'I-region', 'I-latitude', 'I-cropVariety', 'I-region', 'I-region', 'I-region', 'I-latitude', 'I-latitude', 'I-soilPH', 'I-region', 'I-soilPH', 'I-soilPH', 'I-region', 'I-region', 'I-latitude', 'I-region', 'B-soilBulkDensity', 'I-region', 'I-region', 'I-region', 'I-longitude', 'I-longitude', 'B-soilDepth', 'I-region', 'I-cropSpecies', 'I-cropVariety', 'I-region', 'I-latitude', 'B-soilDepth', 'I-region', 'I-soilDepth', 'B-soilDepth', 'I-country', 'I-soilAvailableNitrogen', 'I-latitude', 'I-latitude', 'B-country', 'I-soilPH', 'I-soilPH', 'I-latitude', 'I-latitude', 'B-region', 'I-latitude', 'I-region', 'I-soilPH', 'I-latitude', 'I-latitude', 'I-latitude', 'I-latitude', 'I-latitude', 'I-soilPH', 'I-soilDepth', 'B-soilDepth', 'I-country', 'I-soilAvailableNitrogen', 'I-latitude', 'I-latitude', 'I-latitude', 'I-latitude', 'I-soilPH', 'I-region', 'I-latitude', 'B-soilAvailableNitrogen', 'I-region', 'I-cropSpecies', 'I-longitude', 'I-region', 'I-soilPH', 'I-latitude', 'I-latitude', 'B-soilDepth', 'B-soilAvailableNitrogen', 'I-latitude', 'I-latitude', 'I-latitude', 'B-soilDepth', 'B-soilDepth', 'B-soilDepth', 'B-cropVariety', 'B-soilDepth', 'B-soilBulkDensity', 'I-region', 'I-region', 'B-cropSpecies', 'I-region', 'B-soilDepth', 'B-soilDepth', 'I-soilPH', 'I-soilPH', 'B-soilDepth', 'I-region', 'I-latitude', 'B-soilDepth', 'B-soilDepth', 'B-soilDepth', 'I-latitude', 'B-cropVariety', 'B-soilBulkDensity', 'B-soilDepth', 'I-latitude', 'I-latitude', 'I-region', 'I-region', 'I-cropVariety', 'I-region', 'B-soilDepth', 'I-cropVariety', 'I-soilPH', 'I-latitude', 'I-soilPH', 'I-soilPH', 'I-latitude', 'B-cropSpecies', 'I-latitude', 'B-soilAvailableNitrogen', 'I-region', 'B-soilDepth', 'I-cropVariety', 'B-country', 'I-region', 'B-country', 'I-region', 'B-country', 'I-latitude', 'I-soilPH', 'I-soilPH', 'I-latitude', 'I-soilPH']\n",
      "Gold: ['O', 'O', 'O', 'O', 'O', 'O', 'O', 'O', 'O', 'O', 'O', 'O', 'O', 'O', 'O', 'O', 'O', 'O', 'O', 'O', 'O', 'O', 'O', 'O', 'O', 'O', 'O', 'O', 'O', 'O', 'O', 'O', 'O', 'O', 'O', 'O', 'O', 'O', 'O', 'O', 'O', 'O', 'O', 'O', 'O', 'O', 'O', 'O', 'O', 'O', 'O', 'O', 'O', 'O', 'O', 'O', 'O', 'O', 'O', 'O', 'O', 'O', 'O', 'O', 'O', 'O', 'O', 'O', 'O', 'O', 'O', 'O', 'O', 'O', 'O', 'O', 'O', 'O', 'O', 'O', 'O', 'O', 'O', 'O', 'O', 'O', 'O', 'O', 'O', 'O', 'O', 'O', 'O', 'O', 'O', 'O', 'O', 'O', 'O', 'O', 'O', 'O', 'O', 'O', 'O', 'O', 'O', 'O', 'O', 'O', 'O', 'O', 'O', 'O', 'O', 'O', 'O', 'O', 'O', 'O', 'O', 'O', 'O', 'O', 'O', 'O', 'O', 'O', 'O', 'O', 'O', 'O', 'O', 'O', 'O', 'O', 'O', 'O', 'O', 'O', 'O', 'O', 'O', 'O', 'O', 'O', 'O', 'O', 'O', 'O', 'O', 'O', 'O', 'O', 'O', 'O', 'O', 'O', 'O', 'O', 'O', 'O', 'O', 'O', 'O', 'O', 'O', 'O', 'O', 'O', 'O', 'O', 'O', 'O', 'O', 'O', 'O', 'O', 'O', 'O', 'O', 'O', 'O', 'O', 'O', 'O', 'O', 'O', 'O', 'O', 'O', 'O', 'O', 'O', 'O', 'O', 'O', 'O', 'O', 'O', 'O', 'O', 'O', 'O', 'O', 'O', 'O', 'O', 'O', 'O', 'O', 'O', 'O', 'O', 'O', 'O', 'O', 'O', 'O', 'O', 'O', 'O', 'O', 'O', 'O', 'O', 'O', 'O', 'O', 'O', 'O', 'O', 'O']\n",
      "\n"
     ]
    }
   ],
   "source": [
    "outputs = trainer.predict(tokenized_dataset[\"test\"])\n",
    "preds, labels = align_predictions(outputs.predictions, outputs.label_ids)\n",
    "\n",
    "# Print a few predictions\n",
    "for i in range(3):\n",
    "    print(\"Pred:\", preds[i])\n",
    "    print(\"Gold:\", labels[i])\n",
    "    print()\n"
   ]
  },
  {
   "cell_type": "code",
   "execution_count": 17,
   "id": "76a3d650",
   "metadata": {},
   "outputs": [
    {
     "data": {
      "text/html": [],
      "text/plain": [
       "<IPython.core.display.HTML object>"
      ]
     },
     "metadata": {},
     "output_type": "display_data"
    },
    {
     "name": "stdout",
     "output_type": "stream",
     "text": [
      "{'test_loss': 3.6846370697021484, 'test_model_preparation_time': 0.0111, 'test_precision': 0.0013097576948264572, 'test_recall': 0.029850746268656716, 'test_f1': 0.0025094102885821834, 'test_accuracy': 0.002959127057518032, 'test_runtime': 1.7851, 'test_samples_per_second': 11.204, 'test_steps_per_second': 1.681}\n"
     ]
    }
   ],
   "source": [
    "test_dataset = tokenized_dataset[\"test\"]\n",
    "results = trainer.predict(test_dataset)\n",
    "print(results.metrics)"
   ]
  },
  {
   "cell_type": "code",
   "execution_count": null,
   "id": "51a25512",
   "metadata": {},
   "outputs": [],
   "source": []
  }
 ],
 "metadata": {
  "kernelspec": {
   "display_name": "Llama",
   "language": "python",
   "name": "python3"
  },
  "language_info": {
   "codemirror_mode": {
    "name": "ipython",
    "version": 3
   },
   "file_extension": ".py",
   "mimetype": "text/x-python",
   "name": "python",
   "nbconvert_exporter": "python",
   "pygments_lexer": "ipython3",
   "version": "3.9.21"
  }
 },
 "nbformat": 4,
 "nbformat_minor": 5
}
