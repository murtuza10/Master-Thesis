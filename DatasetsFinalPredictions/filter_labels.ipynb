{
 "cells": [
  {
   "cell_type": "code",
   "execution_count": 11,
   "id": "31ba20b6",
   "metadata": {},
   "outputs": [],
   "source": [
    "import os\n",
    "import sys\n",
    "# sys.path.append(os.path.abspath(os.path.dirname(__file__)))  # ensures current directory is included\n",
    "sys.path.append(\"/home/s27mhusa_hpc/Master-Thesis/XMI_Files\")\n",
    "import spacy\n",
    "from collections import Counter\n",
    "import json\n"
   ]
  },
  {
   "cell_type": "code",
   "execution_count": 24,
   "id": "1f869afb",
   "metadata": {},
   "outputs": [],
   "source": [
    "input_label_dir = \"/home/s27mhusa_hpc/Master-Thesis/DatasetsFinalPredictions/Test_BIO_labels_German\"\n",
    "input_token_dir = \"/home/s27mhusa_hpc/Master-Thesis/DatasetsFinalPredictions/Test_BIO_tokens_German\"\n",
    "\n",
    "\n",
    "all_labels = []\n",
    "\n",
    "\n",
    "import os\n",
    "\n",
    "# List of labels to remap to \"locationName\"\n",
    "to_location = [\"city\", \"country\", \"region\", \"latitude\", \"longitude\"]\n",
    "\n",
    "# Your usual label removal list\n",
    "remove_labels = [ \"Crops\", \"Soil\"\n",
    "]\n",
    "\n",
    "for filename in os.listdir(input_label_dir):\n",
    "    label_path = os.path.join(input_label_dir, filename)\n",
    "    with open(label_path, \"r\", encoding=\"utf-8\") as file:\n",
    "        content = file.read()\n",
    "    labels = eval(content)\n",
    "    \n",
    "    token_path = os.path.join(input_token_dir, f\"tokens_{filename}\")\n",
    "    with open(token_path, \"r\", encoding=\"utf-8\") as file:\n",
    "        content = file.read()\n",
    "    tokens = eval(content)\n",
    "\n",
    "    i = 0\n",
    "    while i < len(labels):\n",
    "        label = labels[i]\n",
    "\n",
    "        # 1. Remap city, country, region, latitude, longitude to locationName (BIO-consistent)\n",
    "        for loc_label in to_location:\n",
    "            if label == f\"B-{loc_label}\":\n",
    "                # Change B-XXX to B-locationName and all subsequent I-XXX to I-locationName\n",
    "                labels[i] = \"B-locationName\"\n",
    "                j = i + 1\n",
    "                while j < len(labels) and labels[j] == f\"I-{loc_label}\":\n",
    "                    labels[j] = \"I-locationName\"\n",
    "                    j += 1\n",
    "                i = j\n",
    "                break\n",
    "            elif label == f\"I-{loc_label}\":\n",
    "                labels[i] = \"I-locationName\"\n",
    "        else:\n",
    "            # 2. Handle labels to remove (convert to O)\n",
    "            if any(label == f\"B-{remove_label}\" for remove_label in remove_labels):\n",
    "                remove_type = label[2:]  # Remove \"B-\" prefix\n",
    "                entity_tokens = [i]\n",
    "                j = i + 1\n",
    "                while j < len(labels) and labels[j] == f\"I-{remove_type}\":\n",
    "                    entity_tokens.append(j)\n",
    "                    j += 1\n",
    "\n",
    "                for k in entity_tokens:\n",
    "                    labels[k] = \"O\"\n",
    "                i = j\n",
    "            else:\n",
    "                i += 1\n",
    "\n",
    "    with open(label_path, \"w\", encoding=\"utf-8\") as file:\n",
    "        file.write(str(labels))\n"
   ]
  },
  {
   "cell_type": "code",
   "execution_count": 25,
   "id": "a32a085c",
   "metadata": {},
   "outputs": [
    {
     "name": "stdout",
     "output_type": "stream",
     "text": [
      "📊 B-Label Counts:\n",
      "cropSpecies: 6\n",
      "endTime: 4\n",
      "startTime: 4\n",
      "soilOrganicCarbon: 3\n",
      "locationName: 2\n",
      "duration: 2\n",
      "soilTexture: 3\n",
      "soilReferenceGroup: 1\n",
      "soilDepth: 4\n",
      "\n",
      "📍 Tokens with B-Soil:\n"
     ]
    }
   ],
   "source": [
    "from collections import Counter\n",
    "\n",
    "\n",
    "all_labels = []\n",
    "b_location_examples = []  # Store (label, token) pairs for B-locationName\n",
    "\n",
    "for filename in os.listdir(input_label_dir):\n",
    "    label_path = os.path.join(input_label_dir, filename)\n",
    "    with open(label_path, \"r\", encoding=\"utf-8\") as file:\n",
    "        content = file.read()\n",
    "    labels = eval(content)\n",
    "    \n",
    "    token_path = os.path.join(input_token_dir, f\"tokens_{filename}\")\n",
    "    with open(token_path, \"r\", encoding=\"utf-8\") as file:\n",
    "        token_content = file.read()\n",
    "    tokens = eval(token_content)\n",
    "\n",
    "    # Extend for overall count\n",
    "    all_labels.extend(labels)\n",
    "\n",
    "    # Collect B-locationName examples\n",
    "    for label, token in zip(labels, tokens):\n",
    "        if label == \"I-cropSpecies\":\n",
    "            b_location_examples.append((label, token))\n",
    "            print(filename)\n",
    "\n",
    "# Count only B- labels and strip B-\n",
    "b_counts = Counter(label[2:] for label in all_labels if label.startswith(\"B-\"))\n",
    "\n",
    "# Print label counts\n",
    "print(\"📊 B-Label Counts:\")\n",
    "for label, count in b_counts.items():\n",
    "    print(f\"{label}: {count}\")\n",
    "\n",
    "# Print all B-locationName examples\n",
    "print(\"\\n📍 Tokens with B-Soil:\")\n",
    "for label, token in b_location_examples:\n",
    "    print(f\"{label}: {token}\")\n"
   ]
  },
  {
   "cell_type": "code",
   "execution_count": 26,
   "id": "8856c613",
   "metadata": {},
   "outputs": [
    {
     "name": "stdout",
     "output_type": "stream",
     "text": [
      "\n",
      "📍 Full Location Names:\n",
      "\n",
      "📍 Full filenames Names:\n"
     ]
    }
   ],
   "source": [
    "location_names = []\n",
    "filenames = []\n",
    "\n",
    "for filename in os.listdir(input_label_dir):\n",
    "    label_path = os.path.join(input_label_dir, filename)\n",
    "    with open(label_path, \"r\", encoding=\"utf-8\") as file:\n",
    "        content = file.read()\n",
    "    labels = eval(content)\n",
    "\n",
    "    token_path = os.path.join(input_token_dir, f\"tokens_{filename}\")\n",
    "    with open(token_path, \"r\", encoding=\"utf-8\") as file:\n",
    "        tokens = eval(file.read())\n",
    "\n",
    "    i = 0\n",
    "    while i < len(labels):\n",
    "        if labels[i] == \"B-Crops\":\n",
    "            location_tokens = [tokens[i]]\n",
    "            i += 1\n",
    "            while i < len(labels) and labels[i] == \"I-Crops\":\n",
    "                location_tokens.append(tokens[i])\n",
    "                i += 1\n",
    "            location_names.append(\" \".join(location_tokens))\n",
    "            filenames.append(filename)\n",
    "        else:\n",
    "            i += 1\n",
    "\n",
    "# Print full location names\n",
    "print(\"\\n📍 Full Location Names:\")\n",
    "for loc in location_names:\n",
    "    print(loc)\n",
    "print(\"\\n📍 Full filenames Names:\")\n",
    "for filename in filenames:\n",
    "    print(filename)"
   ]
  },
  {
   "cell_type": "code",
   "execution_count": 27,
   "id": "42cc6bbf",
   "metadata": {},
   "outputs": [
    {
     "data": {
      "image/png": "[encoded data removed]",
      "text/plain": [
       "<Figure size 800x500 with 1 Axes>"
      ]
     },
     "metadata": {},
     "output_type": "display_data"
    }
   ],
   "source": [
    "import matplotlib.pyplot as plt\n",
    "# Extract labels and counts\n",
    "labels = list(b_counts.keys())\n",
    "counts = list(b_counts.values())\n",
    "\n",
    "# Create bar chart\n",
    "plt.figure(figsize=(8, 5))\n",
    "bars = plt.bar(labels, counts, color='skyblue')\n",
    "plt.title(\"Label Counts\")\n",
    "plt.xlabel(\"Labels\")\n",
    "plt.ylabel(\"Counts\")\n",
    "plt.grid(axis='y', linestyle='--', alpha=0.7)\n",
    "\n",
    "plt.xticks(rotation=90)\n",
    "\n",
    "# Add count labels above bars\n",
    "for bar in bars:\n",
    "    yval = bar.get_height()\n",
    "    plt.text(bar.get_x() + bar.get_width()/2, yval + 1, yval, ha='center', va='bottom')\n",
    "\n",
    "plt.tight_layout()\n",
    "plt.show()"
   ]
  },
  {
   "cell_type": "markdown",
   "id": "3ae782cd",
   "metadata": {},
   "source": [
    "\n"
   ]
  },
  {
   "cell_type": "code",
   "execution_count": null,
   "id": "bb11cab0",
   "metadata": {},
   "outputs": [],
   "source": []
  },
  {
   "cell_type": "code",
   "execution_count": null,
   "id": "17d0b962",
   "metadata": {},
   "outputs": [],
   "source": []
  }
 ],
 "metadata": {
  "kernelspec": {
   "display_name": "Llama",
   "language": "python",
   "name": "python3"
  },
  "language_info": {
   "codemirror_mode": {
    "name": "ipython",
    "version": 3
   },
   "file_extension": ".py",
   "mimetype": "text/x-python",
   "name": "python",
   "nbconvert_exporter": "python",
   "pygments_lexer": "ipython3",
   "version": "3.9.21"
  }
 },
 "nbformat": 4,
 "nbformat_minor": 5
}
